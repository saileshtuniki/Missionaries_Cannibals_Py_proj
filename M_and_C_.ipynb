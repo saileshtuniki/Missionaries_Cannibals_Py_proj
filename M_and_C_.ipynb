{
 "cells": [
  {
   "cell_type": "code",
   "execution_count": 2,
   "metadata": {},
   "outputs": [
    {
     "name": "stdout",
     "output_type": "stream",
     "text": [
      "M = 0 C = 0 |----B|M = 3 C = 3\n",
      "M= 1 C= 1 |B-----| M= 2 C= 2\n",
      "M= 0 C= 1 |-----B| M= 3 C= 2\n",
      "M= 1 C= 1 |B-----| M= 2 C= 2\n",
      "M= 0 C= 1 |-----B| M= 3 C= 2\n",
      "M= 1 C= 1 |B-----| M= 2 C= 2\n",
      "M= 0 C= 0 |-----B| M= 3 C= 3\n",
      "M= 1 C= 0 |B-----| M= 2 C= 3\n",
      "YOU LOSE\n"
     ]
    }
   ],
   "source": [
    "### Your code ###\n",
    "\n",
    "boat_side = \"Right\"\n",
    "missionaries_on_right = 3\n",
    "cannibals_on_rigth = 3\n",
    "missionaries_on_left = 0\n",
    "cannibals_on_left = 0\n",
    "\n",
    "print('M =',missionaries_on_left, 'C =', cannibals_on_left, '|----B|' 'M =', missionaries_on_right, 'C =', cannibals_on_rigth)\n",
    "\n",
    "while True:\n",
    "    missionaries = int(input(\"Enter a number of Missionaries or Enter 10 to Quit! Game:\"))\n",
    "    if( missionaries == 10):\n",
    "        print(\"You Quit\" \" \" \"Game Over\")\n",
    "        break\n",
    "    cannibals = int(input(\"Enter number of Cannibals:\"))\n",
    "    \n",
    "    if(missionaries + cannibals ) != 1 and  (missionaries + cannibals) != 2:\n",
    "        print(\"Invalid Move\")\n",
    "        continue\n",
    "    \n",
    "    if ( boat_side == 'Right'):\n",
    "        if(missionaries_on_right < missionaries or cannibals_on_rigth < cannibals):\n",
    "            print(\"Invalid Move\")\n",
    "        \n",
    "        missionaries_on_right = missionaries_on_right - missionaries\n",
    "        cannibals_on_rigth = cannibals_on_rigth - cannibals\n",
    "    \n",
    "        missionaries_on_left += missionaries\n",
    "        cannibals_on_left += cannibals\n",
    "        \n",
    "        print('M=', missionaries_on_left, 'C=', cannibals_on_left ,'|B-----|', 'M=', missionaries_on_right, 'C=' ,cannibals_on_rigth )\n",
    "        boat_side = 'left'\n",
    "    \n",
    "    else:\n",
    "        if missionaries_on_left < missionaries or cannibals_on_left < cannibals:\n",
    "            print(\"Invalid Move\")\n",
    "\n",
    "        missionaries_on_left = missionaries_on_left - missionaries\n",
    "        cannibals_on_left = cannibals_on_left - cannibals\n",
    "        \n",
    "        missionaries_on_right += missionaries\n",
    "        cannibals_on_rigth += cannibals\n",
    "\n",
    "        print('M=', missionaries_on_left, 'C=', cannibals_on_left ,'|-----B|', 'M=', missionaries_on_right, 'C=' ,cannibals_on_rigth )\n",
    "        boat_side = 'Right'\n",
    "    if(missionaries_on_right < cannibals_on_rigth and missionaries_on_right > 0) or (missionaries_on_left < cannibals_on_left and missionaries_on_left > 0):\n",
    "        print(\"YOU LOSE\")\n",
    "        break\n",
    "    if (missionaries_on_left == 3 and cannibals_on_left == 3):\n",
    "        print('you win')\n",
    "        break\n",
    "\n",
    "        "
   ]
  }
 ],
 "metadata": {
  "kernelspec": {
   "display_name": "Python 3",
   "language": "python",
   "name": "python3"
  },
  "language_info": {
   "codemirror_mode": {
    "name": "ipython",
    "version": 3
   },
   "file_extension": ".py",
   "mimetype": "text/x-python",
   "name": "python",
   "nbconvert_exporter": "python",
   "pygments_lexer": "ipython3",
   "version": "3.12.1"
  }
 },
 "nbformat": 4,
 "nbformat_minor": 2
}
